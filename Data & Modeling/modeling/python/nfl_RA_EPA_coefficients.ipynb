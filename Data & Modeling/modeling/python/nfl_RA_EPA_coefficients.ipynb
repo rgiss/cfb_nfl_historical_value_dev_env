{
 "cells": [
  {
   "cell_type": "code",
   "execution_count": 4,
   "metadata": {},
   "outputs": [
    {
     "name": "stdout",
     "output_type": "stream",
     "text": [
      "                             QB            RB            TE            WR\n",
      "pass_share            -0.014141 -1.367447e-02  2.019483e-03  9.740528e-04\n",
      "completion_percentage  0.005456 -1.240675e-06 -3.550656e-06  1.679940e-05\n",
      "yards_per_completion   0.052490 -2.186947e-06  6.757011e-05  4.444844e-05\n",
      "tds_per_completion     0.001522  4.119823e-08  1.045742e-08  5.792176e-09\n",
      "rush_share            -0.004368  3.467483e-03  7.484835e-04  1.410123e-04\n",
      "yards_per_rush        -0.033409  4.116535e-02  5.494632e-05 -3.592550e-04\n",
      "tds_per_rush          -0.000348  5.496341e-04  2.913515e-06 -1.278533e-05\n",
      "target_share          -0.000007 -5.846310e-03 -1.208152e-03 -2.145469e-03\n",
      "catch_percentage       0.002766  1.325593e-03 -2.234637e-03 -6.028878e-03\n",
      "yards_per_reception   -0.028546  3.105346e-02  2.072790e-02  1.752939e-02\n",
      "tds_per_reception     -0.000029 -1.671175e-05  6.402481e-04  1.481320e-03\n",
      "intercept             -0.107169 -4.135518e-01 -2.134666e-01 -2.063631e-01\n"
     ]
    },
    {
     "name": "stderr",
     "output_type": "stream",
     "text": [
      "/Users/riley.gisseman/Downloads/cfb_nfl_dev_env/.venv/lib/python3.13/site-packages/sklearn/utils/extmath.py:203: RuntimeWarning: divide by zero encountered in matmul\n",
      "  ret = a @ b\n",
      "/Users/riley.gisseman/Downloads/cfb_nfl_dev_env/.venv/lib/python3.13/site-packages/sklearn/utils/extmath.py:203: RuntimeWarning: overflow encountered in matmul\n",
      "  ret = a @ b\n",
      "/Users/riley.gisseman/Downloads/cfb_nfl_dev_env/.venv/lib/python3.13/site-packages/sklearn/utils/extmath.py:203: RuntimeWarning: invalid value encountered in matmul\n",
      "  ret = a @ b\n",
      "/Users/riley.gisseman/Downloads/cfb_nfl_dev_env/.venv/lib/python3.13/site-packages/sklearn/utils/extmath.py:203: RuntimeWarning: divide by zero encountered in matmul\n",
      "  ret = a @ b\n",
      "/Users/riley.gisseman/Downloads/cfb_nfl_dev_env/.venv/lib/python3.13/site-packages/sklearn/utils/extmath.py:203: RuntimeWarning: overflow encountered in matmul\n",
      "  ret = a @ b\n",
      "/Users/riley.gisseman/Downloads/cfb_nfl_dev_env/.venv/lib/python3.13/site-packages/sklearn/utils/extmath.py:203: RuntimeWarning: invalid value encountered in matmul\n",
      "  ret = a @ b\n",
      "/Users/riley.gisseman/Downloads/cfb_nfl_dev_env/.venv/lib/python3.13/site-packages/sklearn/utils/extmath.py:203: RuntimeWarning: divide by zero encountered in matmul\n",
      "  ret = a @ b\n",
      "/Users/riley.gisseman/Downloads/cfb_nfl_dev_env/.venv/lib/python3.13/site-packages/sklearn/utils/extmath.py:203: RuntimeWarning: overflow encountered in matmul\n",
      "  ret = a @ b\n",
      "/Users/riley.gisseman/Downloads/cfb_nfl_dev_env/.venv/lib/python3.13/site-packages/sklearn/utils/extmath.py:203: RuntimeWarning: invalid value encountered in matmul\n",
      "  ret = a @ b\n",
      "/Users/riley.gisseman/Downloads/cfb_nfl_dev_env/.venv/lib/python3.13/site-packages/sklearn/utils/extmath.py:203: RuntimeWarning: divide by zero encountered in matmul\n",
      "  ret = a @ b\n",
      "/Users/riley.gisseman/Downloads/cfb_nfl_dev_env/.venv/lib/python3.13/site-packages/sklearn/utils/extmath.py:203: RuntimeWarning: overflow encountered in matmul\n",
      "  ret = a @ b\n",
      "/Users/riley.gisseman/Downloads/cfb_nfl_dev_env/.venv/lib/python3.13/site-packages/sklearn/utils/extmath.py:203: RuntimeWarning: invalid value encountered in matmul\n",
      "  ret = a @ b\n"
     ]
    }
   ],
   "source": [
    "import pandas as pd\n",
    "from sklearn.linear_model import Ridge\n",
    "\n",
    "# Load your data\n",
    "df = pd.read_csv(\"nfl_ra_epa_over_replacement_train.csv\")\n",
    "\n",
    "# Columns to keep\n",
    "features = [\n",
    "    'pass_share', 'completion_percentage', 'yards_per_completion',\n",
    "    'tds_per_completion', 'rush_share', 'yards_per_rush', 'tds_per_rush',\n",
    "    'target_share', 'catch_percentage', 'yards_per_reception', 'tds_per_reception'\n",
    "]\n",
    "target = 'ra_epa_over_replacement'\n",
    "\n",
    "# Drop irrelevant columns\n",
    "df = df.drop(columns=['gsis_id', 'player_display_name', 'total_games'], errors='ignore')\n",
    "\n",
    "# Prepare output container\n",
    "results = {}\n",
    "\n",
    "# Loop through position groups\n",
    "for position, group in df.groupby('position_group'):\n",
    "    X = group[features]\n",
    "    y = group[target]\n",
    "\n",
    "    # Drop rows with NaNs\n",
    "    X = X.dropna()\n",
    "    y = y.loc[X.index]\n",
    "\n",
    "    # Skip if no rows remain\n",
    "    if len(X) == 0:\n",
    "        continue\n",
    "\n",
    "    # Fit model\n",
    "    model = Ridge(alpha=1.0).fit(X, y)\n",
    "    \n",
    "    # Store coefficients\n",
    "    coef = pd.Series(model.coef_, index=features)\n",
    "    coef['intercept'] = model.intercept_\n",
    "    \n",
    "    results[position] = coef\n",
    "\n",
    "\n",
    "# Create output DataFrame\n",
    "coef_df = pd.DataFrame(results)\n",
    "\n",
    "# Save to CSV\n",
    "coef_df.to_csv(\"position_group_coefficients.csv\")\n",
    "\n",
    "# Optional preview\n",
    "print(coef_df)\n"
   ]
  },
  {
   "cell_type": "code",
   "execution_count": null,
   "metadata": {},
   "outputs": [],
   "source": []
  }
 ],
 "metadata": {
  "kernelspec": {
   "display_name": ".venv",
   "language": "python",
   "name": "python3"
  },
  "language_info": {
   "codemirror_mode": {
    "name": "ipython",
    "version": 3
   },
   "file_extension": ".py",
   "mimetype": "text/x-python",
   "name": "python",
   "nbconvert_exporter": "python",
   "pygments_lexer": "ipython3",
   "version": "3.13.3"
  }
 },
 "nbformat": 4,
 "nbformat_minor": 2
}
