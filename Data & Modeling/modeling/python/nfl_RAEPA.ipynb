{
 "cells": [
  {
   "cell_type": "code",
   "execution_count": 1,
   "metadata": {},
   "outputs": [
    {
     "name": "stderr",
     "output_type": "stream",
     "text": [
      "/var/folders/lh/nvm57cpn2yxbb6dh026mnts40000gp/T/ipykernel_41331/2471606924.py:15: SettingWithCopyWarning: \n",
      "A value is trying to be set on a copy of a slice from a DataFrame.\n",
      "Try using .loc[row_indexer,col_indexer] = value instead\n",
      "\n",
      "See the caveats in the documentation: https://pandas.pydata.org/pandas-docs/stable/user_guide/indexing.html#returning-a-view-versus-a-copy\n",
      "  df['offense_list'] = df['offense_players'].str.split(';')\n",
      "/var/folders/lh/nvm57cpn2yxbb6dh026mnts40000gp/T/ipykernel_41331/2471606924.py:16: SettingWithCopyWarning: \n",
      "A value is trying to be set on a copy of a slice from a DataFrame.\n",
      "Try using .loc[row_indexer,col_indexer] = value instead\n",
      "\n",
      "See the caveats in the documentation: https://pandas.pydata.org/pandas-docs/stable/user_guide/indexing.html#returning-a-view-versus-a-copy\n",
      "  df['defense_list'] = df['defense_players'].str.split(';')\n"
     ]
    }
   ],
   "source": [
    "import pandas as pd\n",
    "import numpy as np\n",
    "from sklearn.linear_model import Ridge\n",
    "\n",
    "# Step 1: Load player participation data\n",
    "pp = pd.read_csv(\"nfl_player_participation_2020_present.csv\")\n",
    "\n",
    "# Step 2: Keep only relevant columns\n",
    "pp = pp[['nflverse_game_id', 'play_id', 'offense_players', 'defense_players','epa']]\n",
    "\n",
    "# Step 5: Drop plays with missing player info or EPA\n",
    "df = pp.dropna(subset=['offense_players', 'defense_players', 'epa'])\n",
    "\n",
    "# Step 6: Parse player IDs into lists\n",
    "df['offense_list'] = df['offense_players'].str.split(';')\n",
    "df['defense_list'] = df['defense_players'].str.split(';')\n",
    "\n",
    "# Step 7: Get list of all unique players\n",
    "all_players = set(p for lst in df['offense_list'] for p in lst)\n",
    "all_players.update(p for lst in df['defense_list'] for p in lst)\n",
    "all_players = sorted(all_players)\n",
    "\n",
    "# Step 8: Build ra_epa design matrix\n",
    "X = pd.DataFrame(0, index=df.index, columns=all_players)\n",
    "\n",
    "for i, row in df.iterrows():\n",
    "    for pid in row['offense_list']:\n",
    "        if pid in X.columns:\n",
    "            X.loc[i, pid] = 1\n",
    "    for pid in row['defense_list']:\n",
    "        if pid in X.columns:\n",
    "            X.loc[i, pid] = -1\n",
    "\n",
    "\n",
    "# Step 9: Define target variable\n",
    "y = df['epa'].values\n"
   ]
  },
  {
   "cell_type": "code",
   "execution_count": 2,
   "metadata": {},
   "outputs": [
    {
     "name": "stderr",
     "output_type": "stream",
     "text": [
      "/Users/riley.gisseman/Downloads/cfb_nfl_dev_env/.venv/lib/python3.13/site-packages/sklearn/utils/extmath.py:203: RuntimeWarning: divide by zero encountered in matmul\n",
      "  ret = a @ b\n",
      "/Users/riley.gisseman/Downloads/cfb_nfl_dev_env/.venv/lib/python3.13/site-packages/sklearn/utils/extmath.py:203: RuntimeWarning: overflow encountered in matmul\n",
      "  ret = a @ b\n",
      "/Users/riley.gisseman/Downloads/cfb_nfl_dev_env/.venv/lib/python3.13/site-packages/sklearn/utils/extmath.py:203: RuntimeWarning: invalid value encountered in matmul\n",
      "  ret = a @ b\n"
     ]
    },
    {
     "name": "stdout",
     "output_type": "stream",
     "text": [
      "00-0032703    1.280376\n",
      "00-0031646    1.260818\n",
      "00-0036562    1.159304\n",
      "00-0034705    1.104669\n",
      "00-0037122    0.929502\n",
      "00-0029415    0.827232\n",
      "00-0033345    0.784744\n",
      "00-0034811    0.746475\n",
      "00-0035845    0.680691\n",
      "00-0033972    0.667409\n",
      "00-0035597    0.655692\n",
      "00-0037460    0.617335\n",
      "00-0021678    0.596817\n",
      "00-0038633    0.595066\n",
      "00-0038737    0.594582\n",
      "00-0037637    0.593536\n",
      "00-0034664    0.587256\n",
      "00-0034207    0.586972\n",
      "00-0038654    0.576417\n",
      "00-0033965    0.549546\n",
      "dtype: float64\n"
     ]
    }
   ],
   "source": [
    "\n",
    "# Step 9: Define target variable\n",
    "y = df['epa'].values\n",
    "\n",
    "# Step 10: Fit Ridge Regression\n",
    "ridge = Ridge(alpha=1.0, fit_intercept=False)\n",
    "ridge.fit(X, y)\n",
    "\n",
    "# Step 11: Output ra_epa coefficients\n",
    "ra_epa = pd.Series(ridge.coef_, index=X.columns).sort_values(ascending=False)\n",
    "\n",
    "# Step 12: Optional – Map player IDs to names\n",
    "# Load a player metadata file with columns: gsis_id (or nfl_id), player_name\n",
    "# players = pd.read_csv('players.csv')\n",
    "# ra_epa_named = ra_epa.reset_index().merge(players, left_on='index', right_on='gsis_id', how='left')\n",
    "\n",
    "print(ra_epa.head(20))  # Top players by ra_epa"
   ]
  },
  {
   "cell_type": "code",
   "execution_count": 3,
   "metadata": {},
   "outputs": [],
   "source": [
    "# Step 1: Flatten offense and defense into a long list of (play index, player ID)\n",
    "from collections import Counter\n",
    "\n",
    "# Combine all player appearances\n",
    "all_appearances = []\n",
    "\n",
    "for i, row in df.iterrows():\n",
    "    all_appearances.extend((pid, i) for pid in row['offense_list'])\n",
    "    all_appearances.extend((pid, i) for pid in row['defense_list'])\n",
    "\n",
    "# Step 2: Count how many plays each player was in\n",
    "# Only count unique plays, to avoid duplicates\n",
    "player_counts = Counter(pid for pid, _ in all_appearances)\n",
    "\n",
    "# Step 3: Multiply ra_epa coefficient × play count\n",
    "ra_epa_impact = ra_epa.multiply(pd.Series(player_counts)).sort_values(ascending=False)\n",
    "\n",
    "# Optional: put into a dataframe for easier viewing\n",
    "ra_epa_df = pd.DataFrame({\n",
    "    'ra_epa_per_play': ra_epa,\n",
    "    'play_count': pd.Series(player_counts),\n",
    "    'ra_epa_total_impact': ra_epa_impact\n",
    "}).fillna(0).reset_index().rename(columns={'index': 'gsis_id'})\n",
    "\n",
    "players = pd.read_csv(\"nfl_players.csv\")\n",
    "\n",
    "ra_epa_with_names = ra_epa_df.merge(players[['gsis_id', 'display_name','position_group']], on='gsis_id', how='left')\n"
   ]
  },
  {
   "cell_type": "code",
   "execution_count": 4,
   "metadata": {},
   "outputs": [
    {
     "name": "stdout",
     "output_type": "stream",
     "text": [
      "         gsis_id  ra_epa_per_play  play_count  ra_epa_total_impact  \\\n",
      "0     00-0004091        -0.130500         302           -39.411142   \n",
      "1     00-0016919         0.054190         284            15.390096   \n",
      "2     00-0019596        -0.096874        8912          -863.338960   \n",
      "3     00-0019646        -0.126606         330           -41.779878   \n",
      "4     00-0019714        -0.022664         325            -7.365799   \n",
      "...          ...              ...         ...                  ...   \n",
      "5015  00-0039163        -0.022765         965           -21.967987   \n",
      "5016  00-0039164        -0.188945         177           -33.443242   \n",
      "5017  00-0039165         0.009361         491             4.596401   \n",
      "5018  00-0039167         0.107692         820            88.307545   \n",
      "5019  00-0039169         0.062934         799            50.284232   \n",
      "\n",
      "              display_name position_group  \n",
      "0              Phil Dawson           SPEC  \n",
      "1           Adam Vinatieri           SPEC  \n",
      "2                Tom Brady             QB  \n",
      "3     Sebastian Janikowski           SPEC  \n",
      "4            Shane Lechler           SPEC  \n",
      "...                    ...            ...  \n",
      "5015           C.J. Stroud             QB  \n",
      "5016    Anthony Richardson             QB  \n",
      "5017       Zach Charbonnet             RB  \n",
      "5018       Joey Porter Jr.             DB  \n",
      "5019     Devon Witherspoon             DB  \n",
      "\n",
      "[5020 rows x 6 columns]\n"
     ]
    }
   ],
   "source": [
    "print(ra_epa_with_names)\n",
    "ra_epa_with_names.to_csv('nfl_RA-EPA.csv')"
   ]
  },
  {
   "cell_type": "code",
   "execution_count": null,
   "metadata": {},
   "outputs": [],
   "source": []
  },
  {
   "cell_type": "code",
   "execution_count": null,
   "metadata": {},
   "outputs": [],
   "source": []
  },
  {
   "cell_type": "code",
   "execution_count": null,
   "metadata": {},
   "outputs": [],
   "source": []
  }
 ],
 "metadata": {
  "kernelspec": {
   "display_name": ".venv",
   "language": "python",
   "name": "python3"
  },
  "language_info": {
   "codemirror_mode": {
    "name": "ipython",
    "version": 3
   },
   "file_extension": ".py",
   "mimetype": "text/x-python",
   "name": "python",
   "nbconvert_exporter": "python",
   "pygments_lexer": "ipython3",
   "version": "3.13.3"
  }
 },
 "nbformat": 4,
 "nbformat_minor": 2
}
